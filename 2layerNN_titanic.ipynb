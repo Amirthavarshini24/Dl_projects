{
 "cells": [
  {
   "cell_type": "code",
   "execution_count": 214,
   "metadata": {},
   "outputs": [],
   "source": [
    "import numpy as np\n",
    "import pandas as pd\n",
    "from matplotlib import pyplot as plt\n",
    "import random\n",
    "\n",
    "%matplotlib inline"
   ]
  },
  {
   "cell_type": "code",
   "execution_count": 215,
   "metadata": {
    "scrolled": false
   },
   "outputs": [
    {
     "name": "stdout",
     "output_type": "stream",
     "text": [
      "TRAINING DATAFRAME(891, 12)\n",
      "TEST DATAFRAME(418, 11)\n"
     ]
    },
    {
     "data": {
      "text/html": [
       "<div>\n",
       "<style scoped>\n",
       "    .dataframe tbody tr th:only-of-type {\n",
       "        vertical-align: middle;\n",
       "    }\n",
       "\n",
       "    .dataframe tbody tr th {\n",
       "        vertical-align: top;\n",
       "    }\n",
       "\n",
       "    .dataframe thead th {\n",
       "        text-align: right;\n",
       "    }\n",
       "</style>\n",
       "<table border=\"1\" class=\"dataframe\">\n",
       "  <thead>\n",
       "    <tr style=\"text-align: right;\">\n",
       "      <th></th>\n",
       "      <th>PassengerId</th>\n",
       "      <th>Survived</th>\n",
       "      <th>Pclass</th>\n",
       "      <th>Name</th>\n",
       "      <th>Sex</th>\n",
       "      <th>Age</th>\n",
       "      <th>SibSp</th>\n",
       "      <th>Parch</th>\n",
       "      <th>Ticket</th>\n",
       "      <th>Fare</th>\n",
       "      <th>Cabin</th>\n",
       "      <th>Embarked</th>\n",
       "    </tr>\n",
       "  </thead>\n",
       "  <tbody>\n",
       "    <tr>\n",
       "      <th>0</th>\n",
       "      <td>1</td>\n",
       "      <td>0</td>\n",
       "      <td>3</td>\n",
       "      <td>Braund, Mr. Owen Harris</td>\n",
       "      <td>male</td>\n",
       "      <td>22.0</td>\n",
       "      <td>1</td>\n",
       "      <td>0</td>\n",
       "      <td>A/5 21171</td>\n",
       "      <td>7.2500</td>\n",
       "      <td>NaN</td>\n",
       "      <td>S</td>\n",
       "    </tr>\n",
       "    <tr>\n",
       "      <th>1</th>\n",
       "      <td>2</td>\n",
       "      <td>1</td>\n",
       "      <td>1</td>\n",
       "      <td>Cumings, Mrs. John Bradley (Florence Briggs Th...</td>\n",
       "      <td>female</td>\n",
       "      <td>38.0</td>\n",
       "      <td>1</td>\n",
       "      <td>0</td>\n",
       "      <td>PC 17599</td>\n",
       "      <td>71.2833</td>\n",
       "      <td>C85</td>\n",
       "      <td>C</td>\n",
       "    </tr>\n",
       "    <tr>\n",
       "      <th>2</th>\n",
       "      <td>3</td>\n",
       "      <td>1</td>\n",
       "      <td>3</td>\n",
       "      <td>Heikkinen, Miss. Laina</td>\n",
       "      <td>female</td>\n",
       "      <td>26.0</td>\n",
       "      <td>0</td>\n",
       "      <td>0</td>\n",
       "      <td>STON/O2. 3101282</td>\n",
       "      <td>7.9250</td>\n",
       "      <td>NaN</td>\n",
       "      <td>S</td>\n",
       "    </tr>\n",
       "    <tr>\n",
       "      <th>3</th>\n",
       "      <td>4</td>\n",
       "      <td>1</td>\n",
       "      <td>1</td>\n",
       "      <td>Futrelle, Mrs. Jacques Heath (Lily May Peel)</td>\n",
       "      <td>female</td>\n",
       "      <td>35.0</td>\n",
       "      <td>1</td>\n",
       "      <td>0</td>\n",
       "      <td>113803</td>\n",
       "      <td>53.1000</td>\n",
       "      <td>C123</td>\n",
       "      <td>S</td>\n",
       "    </tr>\n",
       "    <tr>\n",
       "      <th>4</th>\n",
       "      <td>5</td>\n",
       "      <td>0</td>\n",
       "      <td>3</td>\n",
       "      <td>Allen, Mr. William Henry</td>\n",
       "      <td>male</td>\n",
       "      <td>35.0</td>\n",
       "      <td>0</td>\n",
       "      <td>0</td>\n",
       "      <td>373450</td>\n",
       "      <td>8.0500</td>\n",
       "      <td>NaN</td>\n",
       "      <td>S</td>\n",
       "    </tr>\n",
       "    <tr>\n",
       "      <th>...</th>\n",
       "      <td>...</td>\n",
       "      <td>...</td>\n",
       "      <td>...</td>\n",
       "      <td>...</td>\n",
       "      <td>...</td>\n",
       "      <td>...</td>\n",
       "      <td>...</td>\n",
       "      <td>...</td>\n",
       "      <td>...</td>\n",
       "      <td>...</td>\n",
       "      <td>...</td>\n",
       "      <td>...</td>\n",
       "    </tr>\n",
       "    <tr>\n",
       "      <th>886</th>\n",
       "      <td>887</td>\n",
       "      <td>0</td>\n",
       "      <td>2</td>\n",
       "      <td>Montvila, Rev. Juozas</td>\n",
       "      <td>male</td>\n",
       "      <td>27.0</td>\n",
       "      <td>0</td>\n",
       "      <td>0</td>\n",
       "      <td>211536</td>\n",
       "      <td>13.0000</td>\n",
       "      <td>NaN</td>\n",
       "      <td>S</td>\n",
       "    </tr>\n",
       "    <tr>\n",
       "      <th>887</th>\n",
       "      <td>888</td>\n",
       "      <td>1</td>\n",
       "      <td>1</td>\n",
       "      <td>Graham, Miss. Margaret Edith</td>\n",
       "      <td>female</td>\n",
       "      <td>19.0</td>\n",
       "      <td>0</td>\n",
       "      <td>0</td>\n",
       "      <td>112053</td>\n",
       "      <td>30.0000</td>\n",
       "      <td>B42</td>\n",
       "      <td>S</td>\n",
       "    </tr>\n",
       "    <tr>\n",
       "      <th>888</th>\n",
       "      <td>889</td>\n",
       "      <td>0</td>\n",
       "      <td>3</td>\n",
       "      <td>Johnston, Miss. Catherine Helen \"Carrie\"</td>\n",
       "      <td>female</td>\n",
       "      <td>NaN</td>\n",
       "      <td>1</td>\n",
       "      <td>2</td>\n",
       "      <td>W./C. 6607</td>\n",
       "      <td>23.4500</td>\n",
       "      <td>NaN</td>\n",
       "      <td>S</td>\n",
       "    </tr>\n",
       "    <tr>\n",
       "      <th>889</th>\n",
       "      <td>890</td>\n",
       "      <td>1</td>\n",
       "      <td>1</td>\n",
       "      <td>Behr, Mr. Karl Howell</td>\n",
       "      <td>male</td>\n",
       "      <td>26.0</td>\n",
       "      <td>0</td>\n",
       "      <td>0</td>\n",
       "      <td>111369</td>\n",
       "      <td>30.0000</td>\n",
       "      <td>C148</td>\n",
       "      <td>C</td>\n",
       "    </tr>\n",
       "    <tr>\n",
       "      <th>890</th>\n",
       "      <td>891</td>\n",
       "      <td>0</td>\n",
       "      <td>3</td>\n",
       "      <td>Dooley, Mr. Patrick</td>\n",
       "      <td>male</td>\n",
       "      <td>32.0</td>\n",
       "      <td>0</td>\n",
       "      <td>0</td>\n",
       "      <td>370376</td>\n",
       "      <td>7.7500</td>\n",
       "      <td>NaN</td>\n",
       "      <td>Q</td>\n",
       "    </tr>\n",
       "  </tbody>\n",
       "</table>\n",
       "<p>891 rows × 12 columns</p>\n",
       "</div>"
      ],
      "text/plain": [
       "     PassengerId  Survived  Pclass  \\\n",
       "0              1         0       3   \n",
       "1              2         1       1   \n",
       "2              3         1       3   \n",
       "3              4         1       1   \n",
       "4              5         0       3   \n",
       "..           ...       ...     ...   \n",
       "886          887         0       2   \n",
       "887          888         1       1   \n",
       "888          889         0       3   \n",
       "889          890         1       1   \n",
       "890          891         0       3   \n",
       "\n",
       "                                                  Name     Sex   Age  SibSp  \\\n",
       "0                              Braund, Mr. Owen Harris    male  22.0      1   \n",
       "1    Cumings, Mrs. John Bradley (Florence Briggs Th...  female  38.0      1   \n",
       "2                               Heikkinen, Miss. Laina  female  26.0      0   \n",
       "3         Futrelle, Mrs. Jacques Heath (Lily May Peel)  female  35.0      1   \n",
       "4                             Allen, Mr. William Henry    male  35.0      0   \n",
       "..                                                 ...     ...   ...    ...   \n",
       "886                              Montvila, Rev. Juozas    male  27.0      0   \n",
       "887                       Graham, Miss. Margaret Edith  female  19.0      0   \n",
       "888           Johnston, Miss. Catherine Helen \"Carrie\"  female   NaN      1   \n",
       "889                              Behr, Mr. Karl Howell    male  26.0      0   \n",
       "890                                Dooley, Mr. Patrick    male  32.0      0   \n",
       "\n",
       "     Parch            Ticket     Fare Cabin Embarked  \n",
       "0        0         A/5 21171   7.2500   NaN        S  \n",
       "1        0          PC 17599  71.2833   C85        C  \n",
       "2        0  STON/O2. 3101282   7.9250   NaN        S  \n",
       "3        0            113803  53.1000  C123        S  \n",
       "4        0            373450   8.0500   NaN        S  \n",
       "..     ...               ...      ...   ...      ...  \n",
       "886      0            211536  13.0000   NaN        S  \n",
       "887      0            112053  30.0000   B42        S  \n",
       "888      2        W./C. 6607  23.4500   NaN        S  \n",
       "889      0            111369  30.0000  C148        C  \n",
       "890      0            370376   7.7500   NaN        Q  \n",
       "\n",
       "[891 rows x 12 columns]"
      ]
     },
     "execution_count": 215,
     "metadata": {},
     "output_type": "execute_result"
    }
   ],
   "source": [
    "#importing the datset\n",
    "\n",
    "import titanicdata\n",
    "train_set=pd.read_csv(\"titanicdata/train.csv\")#dataframe\n",
    "test_set=pd.read_csv(\"titanicdata/test.csv\")\n",
    "print(\"TRAINING DATAFRAME\" +str(train_set.shape))\n",
    "print(\"TEST DATAFRAME\" +str(test_set.shape))\n",
    "train_set"
   ]
  },
  {
   "cell_type": "code",
   "execution_count": 216,
   "metadata": {},
   "outputs": [
    {
     "data": {
      "text/plain": [
       "512.3292"
      ]
     },
     "execution_count": 216,
     "metadata": {},
     "output_type": "execute_result"
    }
   ],
   "source": [
    "np.max(np.array(train_set[\"Fare\"]))"
   ]
  },
  {
   "cell_type": "code",
   "execution_count": 217,
   "metadata": {},
   "outputs": [
    {
     "name": "stdout",
     "output_type": "stream",
     "text": [
      "TRAINING SET X SHAPE(891, 8)\n",
      "TRAINING SET Y SHAPE(891, 1)\n",
      "TEST SET X SHAPE(418, 8)\n",
      "[[ 3.      2.     22.     ...  7.25    8.      1.    ]\n",
      " [ 1.      1.     38.     ... 71.2833  3.      2.    ]\n",
      " [ 3.      1.     26.     ...  7.925   8.      1.    ]\n",
      " ...\n",
      " [ 3.      1.     38.     ... 23.45    8.      1.    ]\n",
      " [ 1.      2.     26.     ... 30.      3.      2.    ]\n",
      " [ 3.      2.     32.     ...  7.75    8.      3.    ]]\n"
     ]
    }
   ],
   "source": [
    "#CONVERTING TO ARRAY \n",
    "#Directly converting to nummpy will render it as an OBJECT as the dataframe has multiple datatypes\n",
    "def dftonumpy(df):\n",
    "    \n",
    "    #GENDER\n",
    "    sex=np.array(df[\"Sex\"])\n",
    "    gender={\"female\":1,\"male\":2}\n",
    "    df[\"Sex\"]=[gender.get(x,x) for x in sex]\n",
    "    \n",
    "    #EMBARKED\n",
    "    embark=np.array(df[\"Embarked\"])\n",
    "    towns={\"S\":1,\"C\":2,\"Q\":3}\n",
    "    df[\"Embarked\"]=[towns.get(x,x) for x in embark]\n",
    "    \n",
    "    #CABIN\n",
    "    cab={\"A\": 1, \"B\": 2, \"C\": 3, \"D\": 4, \"E\": 5, \"F\": 6, \"G\": 7, \"U\": 8}\n",
    "    df[\"Cabin\"]=df[\"Cabin\"].fillna(\"U0\")\n",
    "    cabin=np.array(df[\"Cabin\"])\n",
    "    df[\"Cabin\"]=[cab.get(x[0],0) for x in cabin]\n",
    "    \n",
    "    #AGE replacing NaN with random values in the range of std\n",
    "    age_set=df[\"Age\"]\n",
    "    size=age_set.isnull().sum()\n",
    "    mean=int(age_set.mean())\n",
    "    std=int(age_set.std())\n",
    "    age_copy=age_set.copy()\n",
    "    values=(np.random.randint((mean-std),(mean+std),size=size))\n",
    "    age_copy[np.isnan(age_copy)]=values\n",
    "    df[\"Age\"]=age_copy\n",
    "    \n",
    "    \n",
    "    #DATASET\n",
    "    data=(df[[\"Pclass\",\"Sex\",\"Age\",\"SibSp\",\"Parch\",\"Fare\",\"Cabin\",\"Embarked\"]]).fillna(0) #fill nan values with  0\n",
    "    data_set=data.to_numpy()\n",
    "    return(data_set)\n",
    "train_x=dftonumpy(train_set)\n",
    "train_set_y=(train_set[\"Survived\"]).to_numpy()\n",
    "train_y=train_set_y.reshape(train_x.shape[0],1)\n",
    "test_x=dftonumpy(test_set)\n",
    "print(\"TRAINING SET X SHAPE\" +str(train_x.shape))\n",
    "print(\"TRAINING SET Y SHAPE\" +str(train_y.shape))\n",
    "print(\"TEST SET X SHAPE\" +str(test_x.shape))\n",
    "print(train_x)"
   ]
  },
  {
   "cell_type": "code",
   "execution_count": 218,
   "metadata": {},
   "outputs": [
    {
     "name": "stdout",
     "output_type": "stream",
     "text": [
      "[ 2.7645137   4.77506911  3.26715255  4.39808997  4.39808997  4.14677055\n",
      "  6.78562453  0.25131943  3.39281226  1.75923599  0.50263885  7.28826338\n",
      "  2.51319427  4.90072883  1.75923599  6.91128424  0.25131943  3.7697914\n",
      "  3.89545112  4.27243026  4.39808997  4.27243026  1.8848957   3.51847198\n",
      "  1.00527771  4.77506911  1.8848957   2.38753456  3.14149284  4.77506911\n",
      "  5.02638854  2.26187484  5.27770797  8.29354109  3.51847198  5.27770797\n",
      "  1.8848957   2.63885398  2.26187484  1.75923599  5.02638854  3.39281226\n",
      "  3.39281226  0.37697914  2.38753456  4.77506911  4.02111083  4.39808997\n",
      "  2.51319427  2.26187484  0.87961799  2.63885398  6.15732596  3.64413169\n",
      "  8.16788138  3.26715255  2.63885398  3.58130183  0.62829857  1.38225685\n",
      "  2.7645137   4.77506911  5.65468711  0.50263885  3.01583312  4.52374969\n",
      "  3.64413169  2.38753456  2.13621513  3.26715255  4.02111083  2.01055542\n",
      "  2.63885398  3.26715255  4.02111083  3.14149284  4.39808997  2.13621513\n",
      "  0.10429756  3.7697914   2.7645137   3.64413169  3.51847198  3.51847198\n",
      "  2.13621513  4.14677055  2.01055542  4.6494094   2.89017341  3.01583312\n",
      "  3.64413169  2.51319427  5.78034682  3.26715255  7.4139231   3.89545112\n",
      "  8.92183966  2.89017341  4.27243026  4.27243026  3.51847198  4.77506911\n",
      "  2.63885398  4.14677055  4.6494094   3.51847198  2.63885398  4.52374969\n",
      "  4.77506911  3.51847198  5.90600653  1.82206585  2.7645137   2.51319427\n",
      "  2.13621513  2.63885398  8.8590098   3.64413169  3.01583312  0.25131943\n",
      "  2.63885398  3.7697914   4.08394069  4.08394069  6.78562453  1.50791656\n",
      "  2.26187484  3.01583312  3.7697914   5.65468711  4.14677055  2.51319427\n",
      "  5.90600653  3.64413169  3.14149284  2.89017341  2.38753456  4.6494094\n",
      "  2.01055542  3.01583312  5.02638854  2.7645137   3.01583312  2.38753456\n",
      "  2.26187484  2.38753456  3.39281226  1.13093742  4.58657954  5.27770797\n",
      "  6.40864539  2.7645137   6.9741141   5.0892184   3.89545112  6.40864539\n",
      "  2.01055542  3.7697914   3.51847198  2.38753456  5.52902739  5.02638854\n",
      "  3.26715255  2.13621513  0.12565971  1.13093742  3.39281226  5.65468711\n",
      "  4.02111083  3.51847198  7.66524252  0.50263885  0.12565971  2.63885398\n",
      "  7.03694396  2.26187484  2.13621513  6.28298567  3.7697914   4.52374969\n",
      "  4.52374969  1.8848957   1.13093742  0.12565971  0.50263885  5.15204825\n",
      "  3.39281226  5.65468711  5.02638854  4.52374969  4.02111083  2.38753456\n",
      "  2.38753456  0.37697914  5.52902739  7.28826338  3.39281226  5.27770797\n",
      "  4.90072883  3.01583312  3.51847198  2.01055542  4.27243026  5.71751696\n",
      "  2.26187484  0.25131943  4.02111083  3.26715255  2.01055542  5.02638854\n",
      "  3.01583312  4.39808997  2.7645137   3.7697914   4.14677055  3.89545112\n",
      "  3.39281226  5.27770797  4.02111083  3.7697914   2.01055542  3.39281226\n",
      "  6.40864539  3.01583312  4.77506911  2.7645137   2.38753456  2.57602413\n",
      "  2.26187484  3.01583312  4.39808997  3.64413169  7.4139231   0.62829857\n",
      "  3.01583312  1.8848957   5.52902739  1.00527771  2.38753456  4.14677055\n",
      "  5.27770797  4.77506911  3.64413169  2.7645137   3.7697914   5.52902739\n",
      "  3.14149284  3.01583312  4.6494094   6.78562453  3.89545112  3.64413169\n",
      "  7.79090224  3.7697914   5.15204825  3.64413169  2.51319427  3.7697914\n",
      "  4.39808997  6.28298567  2.26187484  0.37697914  6.5343051   5.02638854\n",
      "  3.89545112  4.52374969  2.01055542  3.14149284  7.28826338  4.39808997\n",
      "  2.01055542  3.14149284  5.15204825  4.6494094   4.02111083  7.91656195\n",
      "  5.65468711  3.39281226  0.87961799  4.39808997  8.16788138  3.51847198\n",
      "  2.01055542  2.38753456  4.02111083  4.14677055  3.7697914   2.7645137\n",
      "  5.27770797  2.7645137   3.26715255  2.38753456  4.52374969  3.01583312\n",
      "  3.01583312  4.52374969  2.95300327  0.25131943  2.13621513  6.28298567\n",
      "  4.02111083  3.26715255  2.38753456  3.01583312  3.26715255  0.11560694\n",
      "  3.01583312  2.13621513  3.7697914   3.7697914   3.01583312  2.26187484\n",
      "  3.26715255  3.51847198  5.40336768  3.26715255  3.01583312  6.78562453\n",
      "  3.89545112  5.02638854  2.7645137   3.39281226  3.7697914   2.7645137\n",
      "  4.6494094   4.52374969  7.66524252  4.52374969  3.89545112  2.01055542\n",
      "  4.39808997  5.71751696  4.77506911  2.01055542  5.27770797  5.15204825\n",
      "  3.64413169  5.15204825  5.65468711  5.65468711  0.25131943  3.01583312\n",
      "  3.51847198  3.14149284  4.52374969  3.01583312  5.02638854  4.90072883\n",
      "  0.37697914  5.27770797  2.89017341  4.02111083  1.8848957   3.14149284\n",
      "  2.13621513  3.51847198  2.7645137   4.77506911  4.27243026  2.7645137\n",
      "  5.02638854  3.64413169  5.65468711  4.39808997  3.26715255  3.7697914\n",
      "  7.53958281  3.26715255  4.14677055  3.01583312  3.14149284  2.26187484\n",
      "  2.38753456  2.7645137   0.37697914  3.14149284  2.7645137   3.39281226\n",
      "  2.51319427  2.38753456  5.27770797  0.12565971  4.02111083  4.39808997\n",
      "  4.39808997  2.26187484  0.12565971  4.52374969  4.27243026  2.13621513\n",
      "  4.52374969  2.63885398  3.51847198  2.89017341  3.01583312  2.7645137\n",
      "  3.89545112  5.78034682  2.89017341  3.51847198  4.90072883  3.26715255\n",
      "  2.63885398  3.51847198  2.51319427  4.27243026  6.40864539  0.37697914\n",
      "  2.63885398  2.26187484  2.89017341  2.63885398  4.14677055  3.64413169\n",
      "  5.52902739  4.90072883  4.27243026  2.26187484  3.7697914   1.25659713\n",
      "  2.01055542  2.63885398  3.64413169  3.51847198  2.26187484  3.39281226\n",
      "  3.51847198  2.38753456  5.27770797  4.02111083  3.51847198  2.51319427\n",
      "  5.27770797  2.13621513  6.28298567  1.75923599  2.63885398  3.01583312\n",
      "  8.04222166  3.89545112  5.65468711  2.51319427  3.14149284  3.51847198\n",
      "  1.8848957   0.50263885  1.63357628  4.27243026  0.62829857  6.5343051\n",
      "  4.52374969  3.89545112  3.7697914   6.15732596  4.6494094   3.64413169\n",
      "  8.16788138  5.02638854  6.28298567  3.14149284  6.03166625  4.27243026\n",
      "  5.90600653  6.03166625  2.89017341  4.77506911  4.6494094   7.03694396\n",
      "  5.02638854  0.09424479  2.01055542  4.77506911  4.14677055  2.89017341\n",
      "  2.7645137   4.6494094   4.27243026  3.64413169  2.7645137   0.25131943\n",
      "  1.13093742  1.8848957   6.28298567  7.91656195  3.14149284  2.63885398\n",
      "  4.39808997  7.28826338  3.7697914   1.13093742  2.7645137   2.63885398\n",
      "  6.91128424  8.92183966  2.63885398  3.64413169  6.78562453  3.64413169\n",
      "  3.14149284  3.01583312  2.13621513  2.63885398  3.01583312  4.6494094\n",
      "  2.01055542  2.26187484  4.14677055  5.27770797  3.51847198  3.26715255\n",
      "  3.64413169  1.8848957   4.52374969  6.78562453  3.01583312  5.90600653\n",
      "  4.27243026  2.89017341  4.52374969  4.02111083  3.7697914   2.7645137\n",
      "  3.26715255  5.52902739  3.51847198  5.0892184   6.28298567  2.63885398\n",
      "  4.90072883  2.89017341  0.25131943  3.01583312  2.13621513  4.02111083\n",
      "  3.7697914   0.87961799  5.65468711  3.7697914   5.15204825  2.7645137\n",
      "  4.52374969  1.13093742  1.38225685  4.02111083  6.28298567  8.04222166\n",
      "  2.38753456  4.77506911  4.14677055  1.00527771  2.13621513  3.39281226\n",
      "  2.13621513  2.7645137   2.7645137   7.79090224  6.03166625  4.52374969\n",
      "  4.90072883  4.52374969  1.8848957   5.02638854  3.51847198  3.01583312\n",
      "  5.27770797  3.01583312  2.38753456  3.64413169  5.15204825  4.02111083\n",
      "  7.79090224  6.65996482  4.52374969  4.27243026  2.01055542  2.38753456\n",
      "  4.27243026  4.90072883  2.7645137   4.02111083  3.14149284  4.90072883\n",
      "  6.78562453  4.52374969  3.39281226  2.26187484  5.90600653  7.53958281\n",
      "  2.7645137   4.6494094   4.39808997  6.5343051   5.90600653  2.13621513\n",
      "  4.6494094   4.52374969  2.01055542  6.15732596  2.63885398  6.15732596\n",
      "  3.01583312  2.01055542  3.14149284  5.52902739  4.39808997  4.52374969\n",
      "  3.7697914   3.39281226  2.7645137   5.02638854  4.90072883  4.52374969\n",
      "  5.15204825  2.63885398  4.39808997  3.01583312  4.27243026  3.26715255\n",
      "  0.50263885  3.26715255  3.39281226  5.27770797  2.51319427  2.63885398\n",
      "  2.63885398  7.66524252  7.16260367  2.63885398  3.26715255  2.51319427\n",
      " 10.05277708  6.40864539  4.02111083  4.02111083  1.13093742  3.51847198\n",
      "  4.02111083  3.89545112  5.15204825  4.14677055  2.51319427  3.01583312\n",
      "  0.25131943  3.51847198  0.09424479  6.03166625  2.38753456  7.03694396\n",
      "  4.6494094   2.89017341  3.26715255  2.26187484  2.63885398  2.51319427\n",
      "  2.26187484  3.01583312  2.63885398  4.02111083  2.89017341  7.28826338\n",
      "  6.28298567  5.02638854  5.90600653  4.52374969  2.51319427  4.02111083\n",
      "  3.14149284  2.63885398  5.40336768  3.89545112  5.02638854  3.89545112\n",
      "  8.79617994  3.89545112  2.26187484  2.26187484  3.07866298  2.26187484\n",
      "  5.40336768  4.52374969  3.14149284  3.39281226  2.51319427  1.75923599\n",
      "  7.53958281  3.14149284  1.75923599  2.38753456  2.26187484  1.8848957\n",
      "  3.89545112  0.50263885  2.26187484  3.14149284  7.53958281  6.5343051\n",
      "  5.52902739  2.7645137   6.15732596  5.27770797  2.26187484  4.39808997\n",
      "  2.26187484  3.14149284  3.26715255  4.90072883  5.65468711  5.27770797\n",
      "  2.7645137   4.77506911  3.01583312  4.90072883  6.03166625  3.64413169\n",
      "  6.5343051   2.38753456  4.77506911  3.39281226  3.89545112  4.14677055\n",
      "  0.75395828  2.13621513  4.27243026  6.28298567  3.39281226  2.51319427\n",
      "  3.7697914   3.51847198  3.14149284  3.14149284  3.64413169  1.38225685\n",
      "  3.7697914   2.89017341  2.89017341  3.58130183  6.03166625  4.39808997\n",
      "  2.7645137   2.13621513  2.38753456  4.52374969  2.63885398  3.01583312\n",
      "  3.89545112  8.79617994  2.01055542  3.7697914   2.38753456  3.89545112\n",
      "  0.50263885  0.75395828  4.14677055  2.89017341  6.03166625  0.08419201\n",
      "  3.51847198  2.26187484  4.27243026  4.14677055  4.52374969  5.15204825\n",
      "  2.51319427  4.52374969  2.01055542  6.40864539  4.14677055  3.83262126\n",
      "  2.26187484  4.02111083  3.01583312  6.03166625  7.16260367  3.51847198\n",
      "  6.78562453  2.26187484  3.14149284  0.62829857  4.52374969  5.40336768\n",
      "  1.63357628  2.13621513  3.64413169  3.01583312  3.14149284  3.14149284\n",
      "  2.26187484  1.00527771  0.12565971  5.78034682  4.90072883  2.01055542\n",
      "  5.15204825  2.63885398  3.14149284  4.90072883  6.15732596  3.89545112\n",
      "  3.7697914   3.7697914   4.27243026  3.89545112  1.38225685  0.05277708\n",
      "  3.39281226  3.89545112  4.90072883  2.26187484  4.90072883  4.14677055\n",
      "  3.26715255  4.90072883  4.39808997  0.75395828  3.83262126  3.01583312\n",
      "  2.89017341  3.89545112  5.40336768  1.25659713  6.5343051   3.39281226\n",
      "  4.77506911  3.39281226  0.25131943  3.26715255  2.38753456  0.12565971\n",
      "  3.64413169  7.79090224  1.8848957   0.10429756  3.14149284  2.89017341\n",
      "  2.26187484  4.90072883  2.63885398  2.51319427  4.02111083  2.89017341\n",
      "  2.51319427  2.01055542  3.7697914   4.33526012  2.13621513  5.27770797\n",
      "  4.27243026  4.39808997  3.51847198  5.02638854  0.50263885  9.2988188\n",
      "  1.13093742  2.01055542  5.52902739  2.26187484  5.65468711  6.40864539\n",
      "  3.01583312  5.27770797  5.15204825  2.63885398  6.03166625  3.01583312\n",
      "  3.01583312  5.27770797  3.39281226  3.89545112  4.52374969  0.50263885\n",
      "  3.26715255  5.90600653  4.14677055  5.90600653  3.51847198  1.8848957\n",
      "  2.51319427  2.38753456  3.7697914   7.03694396  3.14149284  4.14677055\n",
      "  2.7645137   3.51847198  3.14149284  4.90072883  3.39281226  2.38753456\n",
      "  4.77506911  3.26715255  4.02111083]\n"
     ]
    }
   ],
   "source": [
    "def sigmoid(arr):\n",
    "    A=np.exp(arr)/(1+np.exp(arr))\n",
    "    return A\n",
    "def norm(arr):\n",
    "    normalized=(arr/(np.max(arr)))*10\n",
    "    return normalized\n",
    "def mnnorm(arr):\n",
    "    normalized=(arr/(np.max(arr)-np.min(arr)))\n",
    "    return normalized\n",
    "train_x[:,5]=(norm(train_x[:,5]))\n",
    "train_x[:,2]=((mnnorm(train_x[:,2]))*10)\n",
    "print(train_x[:,2])\n"
   ]
  },
  {
   "cell_type": "code",
   "execution_count": 226,
   "metadata": {},
   "outputs": [],
   "source": [
    "def param_init(row,column):\n",
    "    W=np.random.randn(row,column)*0.01\n",
    "    b=np.zeros((1,column))\n",
    "    return W,b\n",
    "\n",
    "def sigmoid(Z):\n",
    "    A=np.exp(Z)/(1+np.exp(Z))\n",
    "    return A\n",
    "    "
   ]
  },
  {
   "cell_type": "code",
   "execution_count": 227,
   "metadata": {},
   "outputs": [],
   "source": [
    "def forward(X,Y, W1, b1, W2, b2):\n",
    "    #x=891,12 w1=12,5 b1=1,5 5hiddenneurons\n",
    "    Z1=np.dot(X,W1)+b1 #891,5\n",
    "    A1=sigmoid(Z1)#891,5\n",
    "    #Z1 = 891,5 W2= 5,1 b2=1,1\n",
    "    Z2=np.dot(Z1,W2)+b2 #891,1\n",
    "    A2=sigmoid(Z2)#891,1\n",
    "    m=X.shape[0]\n",
    "    cost=((-1/m)*((np.sum(np.multiply((np.log(A2)),Y)))+np.sum(np.multiply((np.log(1-A2)),(1-Y)))))\n",
    "    dZ2=A2-Y#891,1\n",
    "    dW2=(1/m)*np.dot(A1.T,dZ2) #dW2==W2 SHAPE 5,1\n",
    "    db2=(1/m)*np.reshape((np.sum(dZ2,axis=0,keepdims=True)),(1,1)) #db2==b2 shape 1,1\n",
    "    dA1=dZ2*W2.T #891,5\n",
    "    dZ1=np.dot(dZ2,W2.T)*dA1 #5,1(.)891,1*891,5==891,5\n",
    "    dW1=(1/m)*(np.dot(X.T,dZ1))#12,5== 12,891(.) 891,5 \n",
    "    db1=(1/m)*(np.reshape((np.sum(dZ1,axis=0)),(1,10)))#1,5==1,5\n",
    "    return cost,dW1,db1,dW2,db2"
   ]
  },
  {
   "cell_type": "code",
   "execution_count": 228,
   "metadata": {},
   "outputs": [],
   "source": [
    "def backprob(W1, b1, W2, b2,dW1,db1,dW2,db2,alpha):\n",
    "    W1=W1-(alpha*dW1)\n",
    "    b1=b1-(alpha*db1)\n",
    "    W2=W2-(alpha*dW2)\n",
    "    b2=b2-(alpha*db2)\n",
    "    return W1,b1,W2,b2"
   ]
  },
  {
   "cell_type": "code",
   "execution_count": 229,
   "metadata": {},
   "outputs": [],
   "source": [
    "def optimize(X,Y,learning_rate,no_iter, W1, b1, W2, b2):\n",
    "    costs=[]\n",
    "    for i in range(no_iter):\n",
    "        cost,dW1,db1,dW2,db2=forward(X,Y, W1, b1, W2, b2)\n",
    "        if i%100==0:\n",
    "            costs.append(cost)\n",
    "        W1,b1, W2, b2=backprob(W1, b1, W2, b2,dW1,db1,dW2,db2,learning_rate)\n",
    "    return costs, W1, b1, W2, b2"
   ]
  },
  {
   "cell_type": "code",
   "execution_count": 230,
   "metadata": {},
   "outputs": [],
   "source": [
    "def predict(X,Y, W1, b1, W2, b2):\n",
    "    Z1=np.dot(X,W1)+b1 #891,1\n",
    "    A1=sigmoid(Z1)#891,1\n",
    "    Z2=np.dot(Z1,W2)+b2 \n",
    "    A_pred=sigmoid(Z2)\n",
    "    Y_hat=[]\n",
    "    for i in A_pred:\n",
    "        if i<=0.5:\n",
    "            Y_hat.append(0)\n",
    "        elif i>0.5:\n",
    "            Y_hat.append(1)\n",
    "    return Y_hat"
   ]
  },
  {
   "cell_type": "code",
   "execution_count": 231,
   "metadata": {},
   "outputs": [],
   "source": [
    "from sklearn.metrics import accuracy_score\n",
    "def model(X,Y,learning_rate,iter):\n",
    "    W1,b1=param_init(X.shape[1],10)\n",
    "    W2,b2=param_init(10,1)\n",
    "    \n",
    "    costs, W1_end, b1_end, W2_end, b2_end=optimize(X,Y,learning_rate,iter,W1,b1,W2,b2)\n",
    "    plt.plot(costs, label=str(learning_rate))\n",
    "    plt.legend(str(learning_rate))\n",
    "    plt.show()\n",
    "    \n",
    "    Y_pred=predict(X,Y, W1_end, b1_end, W2_end, b2_end)\n",
    "    accuracy=(100-np.mean(np.abs(Y_pred-Y))*100)\n",
    "    sklaccuracy=accuracy_score(Y,Y_pred)\n",
    "    return Y_pred,accuracy,sklaccuracy"
   ]
  },
  {
   "cell_type": "code",
   "execution_count": 235,
   "metadata": {},
   "outputs": [
    {
     "name": "stderr",
     "output_type": "stream",
     "text": [
      "C:\\Users\\amirtha\\anaconda3\\lib\\site-packages\\ipykernel_launcher.py:9: RuntimeWarning: divide by zero encountered in log\n",
      "  if __name__ == '__main__':\n",
      "C:\\Users\\amirtha\\anaconda3\\lib\\site-packages\\ipykernel_launcher.py:9: RuntimeWarning: invalid value encountered in multiply\n",
      "  if __name__ == '__main__':\n"
     ]
    },
    {
     "data": {
      "image/png": "[encoded data removed]",
      "text/plain": [
       "<Figure size 432x288 with 1 Axes>"
      ]
     },
     "metadata": {
      "needs_background": "light"
     },
     "output_type": "display_data"
    },
    {
     "name": "stdout",
     "output_type": "stream",
     "text": [
      "38.38383838383839 0.3838383838383838\n"
     ]
    },
    {
     "data": {
      "image/png": "[encoded data removed]",
      "text/plain": [
       "<Figure size 432x288 with 1 Axes>"
      ]
     },
     "metadata": {
      "needs_background": "light"
     },
     "output_type": "display_data"
    },
    {
     "name": "stdout",
     "output_type": "stream",
     "text": [
      "39.76578353682731 0.3557800224466891\n"
     ]
    },
    {
     "data": {
      "image/png": "[encoded data removed]",
      "text/plain": [
       "<Figure size 432x288 with 1 Axes>"
      ]
     },
     "metadata": {
      "needs_background": "light"
     },
     "output_type": "display_data"
    },
    {
     "name": "stdout",
     "output_type": "stream",
     "text": [
      "61.61616161616162 0.6161616161616161\n"
     ]
    },
    {
     "data": {
      "image/png": "[encoded data removed]",
      "text/plain": [
       "<Figure size 432x288 with 1 Axes>"
      ]
     },
     "metadata": {
      "needs_background": "light"
     },
     "output_type": "display_data"
    },
    {
     "name": "stdout",
     "output_type": "stream",
     "text": [
      "61.61616161616162 0.6161616161616161\n"
     ]
    },
    {
     "data": {
      "image/png": "[encoded data removed]",
      "text/plain": [
       "<Figure size 432x288 with 1 Axes>"
      ]
     },
     "metadata": {
      "needs_background": "light"
     },
     "output_type": "display_data"
    },
    {
     "name": "stdout",
     "output_type": "stream",
     "text": [
      "45.55430851727148 0.3288439955106622\n"
     ]
    }
   ],
   "source": [
    "lr=[0.001,0.0001,0.00005,0.000015,0.0000001]\n",
    "for i in (lr):\n",
    "    pred,acc1,acc2=model(train_x,train_y,i,30000)\n",
    "    print(acc1,acc2)"
   ]
  },
  {
   "cell_type": "code",
   "execution_count": null,
   "metadata": {},
   "outputs": [],
   "source": []
  },
  {
   "cell_type": "code",
   "execution_count": null,
   "metadata": {},
   "outputs": [],
   "source": []
  }
 ],
 "metadata": {
  "kernelspec": {
   "display_name": "Python 3",
   "language": "python",
   "name": "python3"
  },
  "language_info": {
   "codemirror_mode": {
    "name": "ipython",
    "version": 3
   },
   "file_extension": ".py",
   "mimetype": "text/x-python",
   "name": "python",
   "nbconvert_exporter": "python",
   "pygments_lexer": "ipython3",
   "version": "3.7.6"
  }
 },
 "nbformat": 4,
 "nbformat_minor": 4
}
